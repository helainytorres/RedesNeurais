{
  "cells": [
    {
      "cell_type": "markdown",
      "metadata": {
        "id": "view-in-github",
        "colab_type": "text"
      },
      "source": [
        "<a href=\"https://colab.research.google.com/github/helainytorres/RedesNeurais/blob/main/2021.ipynb\" target=\"_parent\"><img src=\"https://colab.research.google.com/assets/colab-badge.svg\" alt=\"Open In Colab\"/></a>"
      ]
    },
    {
      "cell_type": "code",
      "execution_count": 1,
      "metadata": {
        "colab": {
          "base_uri": "https://localhost:8080/"
        },
        "id": "xxoxsIAnPOjw",
        "outputId": "30245aa3-01c7-4817-f85a-739f0573798a"
      },
      "outputs": [
        {
          "output_type": "stream",
          "name": "stdout",
          "text": [
            "Mounted at /content/drive\n"
          ]
        }
      ],
      "source": [
        "from google.colab import drive\n",
        "drive.mount('/content/drive')"
      ]
    },
    {
      "cell_type": "code",
      "execution_count": 2,
      "metadata": {
        "colab": {
          "base_uri": "https://localhost:8080/"
        },
        "id": "KVaruN2bXebu",
        "outputId": "7a817506-2a53-4200-c758-70f7c1e9a952"
      },
      "outputs": [
        {
          "output_type": "stream",
          "name": "stdout",
          "text": [
            "Cloning into 'PUC_Redes_Neurais'...\n",
            "remote: Enumerating objects: 321, done.\u001b[K\n",
            "remote: Counting objects: 100% (321/321), done.\u001b[K\n",
            "remote: Compressing objects: 100% (252/252), done.\u001b[K\n",
            "remote: Total 321 (delta 124), reused 242 (delta 48), pack-reused 0\u001b[K\n",
            "Receiving objects: 100% (321/321), 3.99 MiB | 17.25 MiB/s, done.\n",
            "Resolving deltas: 100% (124/124), done.\n"
          ]
        }
      ],
      "source": [
        "colab = True\n",
        "if colab:\n",
        "    !git clone https://github.com/mdrs-thiago/PUC_Redes_Neurais\n",
        "    import os\n",
        "    os.chdir('/content/PUC_Redes_Neurais/pos_grad/lista 1')"
      ]
    },
    {
      "cell_type": "code",
      "execution_count": 3,
      "metadata": {
        "id": "Woow26Z-Xja7"
      },
      "outputs": [],
      "source": [
        "import pandas as pd\n",
        "import numpy as np\n",
        "import matplotlib.pyplot as plt\n",
        "import seaborn as sns\n",
        "#import missingno as msno\n",
        "import torch\n",
        "import torch.nn as nn\n",
        "from torch.utils.data import WeightedRandomSampler, Dataset, DataLoader\n",
        "import torch.nn.functional as F\n",
        "from typing import Tuple, Dict, List\n",
        "from tqdm.notebook import tqdm\n",
        "import sklearn\n",
        "\n",
        "from sklearn.preprocessing import LabelEncoder\n",
        "from sklearn.model_selection import cross_val_score, KFold, train_test_split\n",
        "from sklearn.metrics import classification_report, confusion_matrix\n",
        "\n",
        "binary=True"
      ]
    },
    {
      "cell_type": "code",
      "execution_count": 4,
      "metadata": {
        "id": "xo21bP5Fw7zM"
      },
      "outputs": [],
      "source": [
        "class CustomDataset(Dataset):\n",
        "\n",
        "    def __init__(self, X_data, y_data):\n",
        "        self.X_data = X_data\n",
        "        self.y_data = y_data\n",
        "\n",
        "    def __getitem__(self, index):\n",
        "        return self.X_data[index], self.y_data[index]\n",
        "\n",
        "    def __len__ (self):\n",
        "        return len(self.X_data)"
      ]
    },
    {
      "cell_type": "code",
      "execution_count": 27,
      "metadata": {
        "id": "CqEpY_SwS-B0"
      },
      "outputs": [],
      "source": [
        "def plots(history):\n",
        "# plot graphs\n",
        " #fig = plt.figure(figsize = (10,20))\n",
        " fig = plt.figure()\n",
        " plt.subplot(1,2,1)\n",
        " #plt.plot(history['loss_train'], label = 'Treino')\n",
        " #plt.plot(history['loss_val'], label = 'Validação')\n",
        " plt.plot(history['loss_train'])\n",
        " plt.plot(history['loss_val'])\n",
        " plt.xlabel('Épocas', size = 15)\n",
        " plt.ylabel('Custo', size = 15)\n",
        " plt.xticks(size = 15)\n",
        " plt.yticks(size = 15)\n",
        " # plt.legend(prop = {'size': 15})\n",
        " plt.subplot(1,2,2)\n",
        " # plt.plot(history['acc_train'], label = 'Treino')\n",
        " #plt.plot(history['acc_val'], label = 'Validação')\n",
        " plt.plot(history['acc_train'])\n",
        " plt.plot(history['acc_val'])\n",
        " plt.xlabel('Épocas', size = 15)\n",
        " plt.ylabel('Acuracidade', size = 15)\n",
        " plt.xticks(size = 15)\n",
        " plt.yticks(size = 15)\n",
        " #plt.legend(prop = {'size': 15})\n",
        " plt.tight_layout()\n",
        " plt.show()"
      ]
    },
    {
      "cell_type": "code",
      "execution_count": 6,
      "metadata": {
        "id": "e_hEbfo9XnhC"
      },
      "outputs": [],
      "source": [
        "#Definindo a rede neural\n",
        "\n",
        "class NeuralNetwork(torch.nn.Module):\n",
        "  '''\n",
        "  Objeto criado para facilitar o desenvolvimento dos scripts das aulas práticas.\n",
        "  Opção alternativa à criação externa fdo modelo. Basicamente serve como um\n",
        "  'agregador'  de trechos comuns para a criação do modelo. Por exemplo, ao invés\n",
        "  de gastar n+1 linhas para a criação de um modelo com n camadas, podemos criar\n",
        "  o mesmo modelo com apenas uma linha.\n",
        "\n",
        "  Parâmetros de entrada:\n",
        "  - hidden_neurons: Lista com a quantidade de neurônios na camada escondida.\n",
        "  - hidden_activation: Função de ativação para cada camada escondida. Aceita\n",
        "  como parâmetro string ou lista. Caso o parâmetro receba string, então a mesma\n",
        "  função de ativação é utilizada para todas as camadas escondidas. Caso seja uma\n",
        "  lista, cada camada terá sua propria função de ativação definida pela lista.\n",
        "  - output_activation: Função de ativação para a camada de saída.\n",
        "  - lr: Taxa de aprendizado\n",
        "  - n_input: Tamanho do vetor de entrada.\n",
        "  - n_output: Saída do modelo.\n",
        "  '''\n",
        "  def __init__(self,hidden_neurons = 4, hidden_activation = 'relu', output_activation='softmax', lr = 0.05, n_input = 1, n_output = 1):\n",
        "    # create model\n",
        "    super(NeuralNetwork, self).__init__()\n",
        "\n",
        "    self.activations = {'relu': nn.ReLU(), 'sigmoid':nn.Sigmoid(), 'softmax':nn.Softmax()}\n",
        "\n",
        "    self.fc1 = nn.Linear(n_input, hidden_neurons)\n",
        "    self.ha = self.activations[hidden_activation]\n",
        "    self.fc2 = nn.Linear(hidden_neurons, n_output)\n",
        "    #self.out = self.activations[output_activation]\n",
        "\n",
        "    #self.out = nn.Sigmoid() #Para o caso binário\n",
        "  def forward(self,x):\n",
        "    h = self.fc1(x)\n",
        "    h1 = self.ha(h)\n",
        "    y = self.fc2(h1)\n",
        "    #y = self.out(h2)\n",
        "    return y\n",
        "\n",
        "  def predict(self, x, binary=True):\n",
        "    y_hat = self.forward(x)\n",
        "\n",
        "    if binary:\n",
        "      y_pred = torch.round(torch.sigmoid(y_hat))\n",
        "      y_pred = y_pred.detach().numpy()\n",
        "    else:\n",
        "      y_pred = torch.argmax(y_hat, dim=1)\n",
        "\n",
        "    return y_pred\n"
      ]
    },
    {
      "cell_type": "code",
      "execution_count": 7,
      "metadata": {
        "id": "n4u1bk_Xym3q"
      },
      "outputs": [],
      "source": [
        "class EarlyStopping:\n",
        "    \"\"\"Early stops the training if validation loss doesn't improve after a given patience.\"\"\"\n",
        "    def __init__(self, patience=7, verbose=False, delta=0, path='checkpoint.pt', trace_func=print):\n",
        "        \"\"\"\n",
        "        Args:\n",
        "            patience (int): How long to wait after last time validation loss improved.\n",
        "                            Default: 7\n",
        "            verbose (bool): If True, prints a message for each validation loss improvement.\n",
        "                            Default: False\n",
        "            delta (float): Minimum change in the monitored quantity to qualify as an improvement.\n",
        "                            Default: 0\n",
        "            path (str): Path for the checkpoint to be saved to.\n",
        "                            Default: 'checkpoint.pt'\n",
        "            trace_func (function): trace print function.\n",
        "                            Default: print\n",
        "        \"\"\"\n",
        "        self.patience = patience\n",
        "        self.verbose = verbose\n",
        "        self.counter = 0\n",
        "        self.best_score = None\n",
        "        self.early_stop = False\n",
        "        self.val_loss_min = np.Inf\n",
        "        self.delta = delta\n",
        "        self.path = path\n",
        "        self.trace_func = trace_func\n",
        "    def __call__(self, val_loss, model):\n",
        "\n",
        "        score = -val_loss\n",
        "\n",
        "        if self.best_score is None:\n",
        "            self.best_score = score\n",
        "            self.save_checkpoint(val_loss, model)\n",
        "        elif score < self.best_score + self.delta:\n",
        "            self.counter += 1\n",
        "            self.trace_func(f'EarlyStopping counter: {self.counter} out of {self.patience}')\n",
        "            if self.counter >= self.patience:\n",
        "                self.early_stop = True\n",
        "        else:\n",
        "            self.best_score = score\n",
        "            self.save_checkpoint(val_loss, model)\n",
        "            self.counter = 0\n",
        "\n",
        "    def save_checkpoint(self, val_loss, model):\n",
        "        '''Saves model when validation loss decrease.'''\n",
        "        if self.verbose:\n",
        "            self.trace_func(f'Validation loss decreased ({self.val_loss_min:.6f} --> {val_loss:.6f}).  Saving model ...')\n",
        "        torch.save(model.state_dict(), self.path)\n",
        "        self.val_loss_min = val_loss"
      ]
    },
    {
      "cell_type": "code",
      "execution_count": 8,
      "metadata": {
        "id": "kJ6PnOngyxkw"
      },
      "outputs": [],
      "source": [
        "def binary_acc(y_pred, y_test):\n",
        "    y_pred_tag = torch.round(torch.sigmoid(y_pred))\n",
        "    correct_results_sum = (y_pred_tag == y_test).sum().float()\n",
        "    acc = correct_results_sum/y_test.shape[0]\n",
        "    acc = torch.round(acc * 100)\n",
        "\n",
        "    return acc\n",
        "\n",
        "def evaluate(model: torch.nn.Module, val_set: Tuple[torch.tensor, torch.tensor],\n",
        "            criterion: torch.nn.Module, binary:bool =True) -> Tuple[torch.tensor, float, float]:\n",
        "    \"\"\"\n",
        "    Evaluates a Pytorch model on a given dataset.\n",
        "    Parameters:\n",
        "    model (torch.nn.Module): The model to be evaluated\n",
        "    data (tuple): A tuple containing the data and labels\n",
        "    criterion (torch.nn.Module): The loss function to be used\n",
        "    binary (bool): Boolean indicating whether the task is binary classification or not. Default: True\n",
        "    Returns:\n",
        "    tuple: A tuple containing predicted labels, loss, and accuracy\n",
        "    \"\"\"\n",
        "\n",
        "    X = val_set.X_data\n",
        "    y = val_set.y_data\n",
        "\n",
        "    with torch.no_grad():\n",
        "        y_pred = model(X)\n",
        "    loss = criterion(y_pred, y)\n",
        "    if binary:\n",
        "        acc = binary_acc(y_pred, y)\n",
        "    else:\n",
        "        acc = accuracy(y_pred, y)\n",
        "    y_pred = torch.argmax(y_pred, dim=1)\n",
        "\n",
        "    return y_pred, loss.item(), acc.item()\n",
        "\n",
        "def train(model: torch.nn.Module , train_loader: torch.utils.data.DataLoader,\n",
        "         val_set: Tuple[torch.Tensor, torch.Tensor], epochs: int, device: torch.device,\n",
        "         lr: float, binary: bool = True, skip: int = 1) -> Tuple[Dict[str, List[float]], torch.Tensor]:\n",
        "    \"\"\"\n",
        "    Trains a Pytorch model on a given training data.\n",
        "\n",
        "    Parameters:\n",
        "    model (torch.nn.Module): The model to be trained\n",
        "    train_loader (DataLoader): The training data in the form of a Pytorch DataLoader\n",
        "    val_set (tuple): A tuple containing the validation data and labels\n",
        "    epochs (int): The number of times the training data should be passed through the model\n",
        "    device (str or torch.device): The device on which to perform the computations (e.g. 'cpu' or 'cuda')\n",
        "    lr (float): The learning rate for the optimizer\n",
        "    binary (bool): Boolean indicating whether the task is binary classification or not. Default: True\n",
        "    skip (int): The number of epochs after which the training and validation results will be printed. Default: 1\n",
        "\n",
        "    Returns:\n",
        "    tuple: A tuple containing the training history and the predicted labels after training\n",
        "    \"\"\"\n",
        "\n",
        "    early_stopping = EarlyStopping(patience=5,verbose=True)\n",
        "\n",
        "    if binary:\n",
        "        criterion = nn.BCEWithLogitsLoss()\n",
        "    else:\n",
        "        criterion = nn.CrossEntropyLoss()\n",
        "\n",
        "    print('my train')\n",
        "    optimizer = torch.optim.SGD(model.parameters(), lr=lr)\n",
        "\n",
        "    history = {'acc_train' : [], 'loss_train': [], 'acc_val': [], 'loss_val': []}\n",
        "\n",
        "    for e in tqdm(range(1, epochs+1)):\n",
        "\n",
        "        y_hat = np.array([])\n",
        "\n",
        "        train_epoch_loss = 0\n",
        "        train_epoch_acc = 0\n",
        "        model.train()\n",
        "        for X_train_batch, y_train_batch in train_loader:\n",
        "            X, y = X_train_batch.to(device), y_train_batch.to(device)\n",
        "            optimizer.zero_grad()\n",
        "\n",
        "            y_pred = model(X)\n",
        "\n",
        "            loss = criterion(y_pred, y)\n",
        "            if binary:\n",
        "                acc = binary_acc(y_pred,y)\n",
        "            else:\n",
        "                acc = accuracy(y_pred, y)\n",
        "\n",
        "            loss.backward()\n",
        "            optimizer.step()\n",
        "\n",
        "            train_epoch_loss += loss.item()\n",
        "            train_epoch_acc += acc.item()\n",
        "            y_p = torch.argmax(y_pred, dim=1)\n",
        "            y_hat = np.concatenate((y_hat, y_p))\n",
        "\n",
        "\n",
        "        model.eval()\n",
        "        _, val_loss, val_acc = evaluate(model, val_set, criterion, binary=binary)\n",
        "\n",
        "        history['acc_train'].append(train_epoch_acc/len(train_loader))\n",
        "        history['loss_train'].append(train_epoch_loss/len(train_loader))\n",
        "        history['acc_val'].append(val_acc)\n",
        "        history['loss_val'].append(val_loss)\n",
        "\n",
        "\n",
        "        #Earling Stopping encontrado\n",
        "        early_stopping(val_loss, model)\n",
        "        if early_stopping.early_stop:\n",
        "          print(\"Early stopping\")\n",
        "          break\n",
        "\n",
        "        if e%skip == 0:\n",
        "            print(f'Epoch {e+0:03}: | Train Loss: {train_epoch_loss/len(train_loader):.3f} | Val Loss: {val_loss:.4f} | Train Acc: {train_epoch_acc/len(train_loader):.4f}| Val Acc: {val_acc:.4f}')\n",
        "    return history, y_hat\n"
      ]
    },
    {
      "cell_type": "code",
      "execution_count": 9,
      "metadata": {
        "id": "ISfxWTKa0G31"
      },
      "outputs": [],
      "source": [
        "from typing import List, Any\n",
        "def plot_confusion_matrix(cm: Any,\n",
        "                          target_names: List[str] = None,\n",
        "                          title: str ='Confusion matrix',\n",
        "                          cmap: Any = None,\n",
        "                          normalize: bool = False):\n",
        "    \"\"\"\n",
        "    given a sklearn confusion matrix (cm), make a nice plot\n",
        "    Arguments\n",
        "    ---------\n",
        "    cm:           confusion matrix from sklearn.metrics.confusion_matrix\n",
        "    target_names: given classification classes such as [0, 1, 2]\n",
        "                  the class names, for example: ['high', 'medium', 'low']\n",
        "    title:        the text to display at the top of the matrix\n",
        "    cmap:         the gradient of the values displayed from matplotlib.pyplot.cm\n",
        "                  see http://matplotlib.org/examples/color/colormaps_reference.html\n",
        "                  plt.get_cmap('jet') or plt.cm.Blues\n",
        "    normalize:    If False, plot the raw numbers\n",
        "                  If True, plot the proportions\n",
        "    Usage\n",
        "    -----\n",
        "    plot_confusion_matrix(cm           = cm,                  # confusion matrix created by\n",
        "                                                              # sklearn.metrics.confusion_matrix\n",
        "                          normalize    = True,                # show proportions\n",
        "                          target_names = y_labels_vals,       # list of names of the classes\n",
        "                          title        = best_estimator_name) # title of graph\n",
        "    Citiation\n",
        "    ---------\n",
        "    http://scikit-learn.org/stable/auto_examples/model_selection/plot_confusion_matrix.html\n",
        "    \"\"\"\n",
        "\n",
        "    accuracy = np.trace(cm) / np.sum(cm).astype('float')\n",
        "    misclass = 1 - accuracy\n",
        "\n",
        "    if target_names is None:\n",
        "        target_names = [i for i in range(cm.shape[0])]\n",
        "\n",
        "    if cmap is None:\n",
        "        cmap = plt.get_cmap('Blues')\n",
        "\n",
        "    plt.figure(figsize=(8, 6))\n",
        "    plt.imshow(cm, interpolation='nearest', cmap=cmap)\n",
        "    plt.title(title)\n",
        "    plt.colorbar()\n",
        "\n",
        "    if target_names is not None:\n",
        "        tick_marks = np.arange(len(target_names))\n",
        "        plt.xticks(tick_marks, target_names, rotation=45)\n",
        "        plt.yticks(tick_marks, target_names)\n",
        "\n",
        "    if normalize:\n",
        "        cm = cm.astype('float') / cm.sum(axis=1)[:, np.newaxis]\n",
        "\n",
        "\n",
        "    thresh = cm.max() / 1.5 if normalize else cm.max() / 2\n",
        "    for i, j in itertools.product(range(cm.shape[0]), range(cm.shape[1])):\n",
        "        if normalize:\n",
        "            plt.text(j, i, \"{:0.4f}\".format(cm[i, j]),\n",
        "                     horizontalalignment=\"center\",\n",
        "                     color=\"white\" if cm[i, j] > thresh else \"black\")\n",
        "        else:\n",
        "            plt.text(j, i, \"{:,}\".format(cm[i, j]),\n",
        "                     horizontalalignment=\"center\",\n",
        "                     color=\"white\" if cm[i, j] > thresh else \"black\")\n",
        "\n",
        "\n",
        "    plt.tight_layout()\n",
        "    plt.ylabel('True label')\n",
        "    plt.xlabel('Predicted label\\naccuracy={:0.4f}; misclass={:0.4f}'.format(accuracy, misclass))\n",
        "    plt.show()\n",
        "\n",
        "def piecewise_norm(vec,val,n):\n",
        "    assert val > min(vec)\n",
        "\n",
        "    return np.where(vec < val, n*(vec - min(vec))/(val - min(vec)), (1-n)*(vec - val)/(max(vec) - val) + n)\n",
        "\n",
        "def transform_data(dataset: pd.DataFrame, normalize: bool = True):\n",
        "    \"\"\"\n",
        "    Transforms data from a pandas DataFrame into a new DataFrame.\n",
        "    Parameters:\n",
        "        dataset (pd.DataFrame): The input dataset\n",
        "        normalize (bool): Boolean indicating whether to normalize numerical data. Default: True\n",
        "    Returns:\n",
        "        pd.DataFrame: The transformed dataframe\n",
        "    \"\"\"\n",
        "\n",
        "    new_df = pd.DataFrame()\n",
        "\n",
        "    #Varre todas as colunas do dataframe.\n",
        "    for name, name_type in dataset.dtypes.items():\n",
        "\n",
        "        if name == 'target':\n",
        "            new_df[name] = dataset[name].values\n",
        "\n",
        "        #Tratamento de dados utilizando o atributo categórico. No caso, é utilizada a codificação 1 of N.\n",
        "        elif name_type == object:\n",
        "            raw_data = dataset[name].values\n",
        "            d_encoder = LabelEncoder()\n",
        "            d_encoder.fit(raw_data)\n",
        "            d_encoded = d_encoder.transform(raw_data)\n",
        "            #dummy_y = to_categorical(d_encoded)\n",
        "            dim = len(d_encoder.classes_)\n",
        "            dummy_y = np.eye(dim)[d_encoded]\n",
        "\n",
        "            for (j,k) in enumerate(d_encoder.classes_):\n",
        "                new_df[f'{name}_{k}'] = dummy_y[:,j].astype('int')\n",
        "\n",
        "\n",
        "        #Caso numérico, utilizando normalização min-max\n",
        "        else:\n",
        "            raw_data = dataset[name].values\n",
        "            if normalize:\n",
        "                new_df[name] = (raw_data - min(raw_data))/(max(raw_data) - min(raw_data))\n",
        "            else:\n",
        "                new_df[name] = raw_data\n",
        "\n",
        "\n",
        "    return new_df"
      ]
    },
    {
      "cell_type": "code",
      "execution_count": 10,
      "metadata": {
        "id": "3EBH2WVdXpbg"
      },
      "outputs": [],
      "source": [
        "from utils import CustomDataset, transform_data, plot_confusion_matrix\n",
        "#from model_utils import train"
      ]
    },
    {
      "cell_type": "code",
      "source": [],
      "metadata": {
        "id": "aV-aXiS-Z0kk"
      },
      "execution_count": null,
      "outputs": []
    },
    {
      "cell_type": "code",
      "execution_count": 11,
      "metadata": {
        "id": "0BM8_HGwX5ZP"
      },
      "outputs": [],
      "source": [
        "file = '/content/drive/MyDrive/data21.csv'\n",
        "data = pd.read_csv(file,sep=';',low_memory=False)"
      ]
    },
    {
      "cell_type": "code",
      "execution_count": 12,
      "metadata": {
        "id": "LUXgPt3KSqAX"
      },
      "outputs": [],
      "source": [
        "data.groupby(by='EVOLUCAO').count()\n",
        "data = sklearn.utils.shuffle(data).reset_index(drop=True) #embaralhar"
      ]
    },
    {
      "cell_type": "code",
      "execution_count": 13,
      "metadata": {
        "id": "S9G5lpgGSp9B"
      },
      "outputs": [],
      "source": [
        "#Dividindo dados\n",
        "dataset_positive = data.loc[data['EVOLUCAO'] == 0.0] #299635 dados\n",
        "dataset_negative = data.loc[data['EVOLUCAO'] == 1.0] #159243 dados\n"
      ]
    },
    {
      "cell_type": "code",
      "execution_count": 14,
      "metadata": {
        "id": "0CweFk3P6Anc"
      },
      "outputs": [],
      "source": [
        "dataset_positive = dataset_positive.reset_index(drop=True)\n",
        "dataset_negative = dataset_negative.reset_index(drop=True)"
      ]
    },
    {
      "cell_type": "code",
      "execution_count": 15,
      "metadata": {
        "id": "V7L7EzBgSp6M"
      },
      "outputs": [],
      "source": [
        "data_positive_new = dataset_positive.loc[0:100000,:] # apenas 1000000 colunas para se igualar ao dataset positivo\n",
        "data_negative_new = dataset_negative.loc[0:100000,:] # apenas 1000000 colunas para se igualar ao dataset negativo\n",
        "newdata = pd.concat([data_positive_new, data_negative_new])\n",
        "newdata = sklearn.utils.shuffle(newdata).reset_index(drop=True) #embaralhar\n"
      ]
    },
    {
      "cell_type": "code",
      "execution_count": 16,
      "metadata": {
        "id": "WgLngTphSp3M"
      },
      "outputs": [],
      "source": [
        "data_positive_res = dataset_positive.loc[100001:299635,:] # apenas 1000000 colunas para se igualar ao dataset positivo\n",
        "data_negative_res = dataset_negative.loc[100001:159243,:] # apenas 1000000 colunas para se igualar ao dataset negativo\n",
        "newdata_res = pd.concat([data_positive_res, data_negative_res])\n",
        "newdata_res = sklearn.utils.shuffle(newdata_res).reset_index(drop=True) #embaralhar\n"
      ]
    },
    {
      "cell_type": "code",
      "execution_count": 17,
      "metadata": {
        "id": "MvXb10hyZNZW"
      },
      "outputs": [],
      "source": [
        "x_train = newdata.drop(\"EVOLUCAO\",axis=1)#tranasforma as variáveis de entrada em float, exceto a ultima (target)\n",
        "target_train = newdata[['EVOLUCAO']] #Vetor de saida (output), para comparação\n",
        "\n",
        "x_test = newdata_res.drop(\"EVOLUCAO\",axis=1)#tranasforma as variáveis de entrada em float, exceto a ultima (target)\n",
        "target_test = newdata_res[['EVOLUCAO']] #Vetor de saida (output), para comparação"
      ]
    },
    {
      "cell_type": "code",
      "execution_count": null,
      "metadata": {
        "id": "4HYYdlhOcOUn"
      },
      "outputs": [],
      "source": [
        "data_positive_res"
      ]
    },
    {
      "cell_type": "code",
      "execution_count": 18,
      "metadata": {
        "colab": {
          "base_uri": "https://localhost:8080/"
        },
        "id": "owrtYB0XSpzt",
        "outputId": "9c99ba5e-c434-4cec-fcb9-6dd7526b4d99"
      },
      "outputs": [
        {
          "output_type": "stream",
          "name": "stderr",
          "text": [
            "/usr/local/lib/python3.10/dist-packages/sklearn/preprocessing/_label.py:116: DataConversionWarning: A column-vector y was passed when a 1d array was expected. Please change the shape of y to (n_samples, ), for example using ravel().\n",
            "  y = column_or_1d(y, warn=True)\n",
            "/usr/local/lib/python3.10/dist-packages/sklearn/preprocessing/_label.py:116: DataConversionWarning: A column-vector y was passed when a 1d array was expected. Please change the shape of y to (n_samples, ), for example using ravel().\n",
            "  y = column_or_1d(y, warn=True)\n"
          ]
        }
      ],
      "source": [
        "encoder = LabelEncoder() #codificador de dados\n",
        "y_train = encoder.fit_transform(target_train) # binariza a saida\n",
        "y_test = encoder.fit_transform(target_test) # binariza a saida"
      ]
    },
    {
      "cell_type": "code",
      "execution_count": null,
      "metadata": {
        "id": "4hJDVBXiYCQs"
      },
      "outputs": [],
      "source": [
        "#x = data.drop(\"EVOLUCAO\",axis=1)#tranasforma as variáveis de entrada em float, exceto a ultima (target)\n",
        "#target = data[['EVOLUCAO']] #Vetor de saida (output), para comparação"
      ]
    },
    {
      "cell_type": "code",
      "execution_count": null,
      "metadata": {
        "colab": {
          "base_uri": "https://localhost:8080/"
        },
        "id": "bSY1HD_xYuCQ",
        "outputId": "f716b02d-6975-496e-83b4-f9ea8b7b3726"
      },
      "outputs": [
        {
          "name": "stderr",
          "output_type": "stream",
          "text": [
            "/usr/local/lib/python3.10/dist-packages/sklearn/preprocessing/_label.py:116: DataConversionWarning: A column-vector y was passed when a 1d array was expected. Please change the shape of y to (n_samples, ), for example using ravel().\n",
            "  y = column_or_1d(y, warn=True)\n"
          ]
        }
      ],
      "source": [
        "#encoder = LabelEncoder() #codificador de dados\n",
        "#y = encoder.fit_transform(target) # binariza a saida"
      ]
    },
    {
      "cell_type": "code",
      "execution_count": null,
      "metadata": {
        "id": "WtAvY5MNZNs0"
      },
      "outputs": [],
      "source": [
        "#x = data.drop(\"EVOLUCAO\",axis=1).astype('float')#tranasforma as variáveis de entrada em float, exceto a ultima (target)\n",
        "#target = data[['EVOLUCAO']].astype('float') #Vetor de saida (output), para comparação"
      ]
    },
    {
      "cell_type": "code",
      "execution_count": 19,
      "metadata": {
        "id": "fBUku5pwZRnH"
      },
      "outputs": [],
      "source": [
        "n_input = x_train.shape[1]\n",
        "n_output = 1\n",
        "binary = True\n",
        "batch_size = 32  #definindo batchs\n",
        "epochs = 1000  #definindo épocas\n",
        "lr = 0.01 #taxa de aprendizado\n",
        "hidden_neurons=5"
      ]
    },
    {
      "cell_type": "code",
      "execution_count": 20,
      "metadata": {
        "id": "DLGzr0fNZWo9"
      },
      "outputs": [],
      "source": [
        "#X_train, X_test, y_train, y_test = train_test_split(x,y,test_size=0.2,random_state=42)\n",
        "X_train, X_val, y_train, y_val = train_test_split(x_train,y_train,test_size=0.2,random_state=42)"
      ]
    },
    {
      "cell_type": "code",
      "execution_count": null,
      "metadata": {
        "id": "e5Qif3PXQpDU"
      },
      "outputs": [],
      "source": [
        "\n",
        "\n"
      ]
    },
    {
      "cell_type": "code",
      "execution_count": 21,
      "metadata": {
        "id": "IjfJsEQbZcIM"
      },
      "outputs": [],
      "source": [
        "#Para o caso binário\n",
        "train_dataset = CustomDataset(torch.from_numpy(X_train.to_numpy()).float(), torch.from_numpy(y_train).float().unsqueeze(1))\n",
        "val_dataset = CustomDataset(torch.from_numpy(X_val.to_numpy()).float(), torch.from_numpy(y_val).float().unsqueeze(1))\n",
        "test_dataset = CustomDataset(torch.from_numpy(x_test.to_numpy()).float(), torch.from_numpy(y_test).float().unsqueeze(1))\n",
        "\n",
        "\n",
        "train_loader = DataLoader(dataset=train_dataset,batch_size=32)\n",
        "val_loader = DataLoader(dataset=val_dataset, batch_size=1)\n",
        "test_loader = DataLoader(dataset=test_dataset, batch_size=1)"
      ]
    },
    {
      "cell_type": "code",
      "execution_count": 22,
      "metadata": {
        "id": "Uqv-gZq9ZiM2"
      },
      "outputs": [],
      "source": [
        "# Criando o modelo de rede\n",
        "lr = 0.05 #taxa de aprendizado\n",
        "hidden_neurons=5\n",
        "model = NeuralNetwork(n_input = n_input, n_output=n_output, hidden_neurons = hidden_neurons)\n",
        "device = torch.device('cuda' if torch.cuda.is_available() else 'cpu')\n",
        "\n",
        "accuracy = []\n",
        "precision = []\n",
        "f1score = []\n",
        "recall = []\n",
        "\n"
      ]
    },
    {
      "cell_type": "code",
      "execution_count": 23,
      "metadata": {
        "colab": {
          "base_uri": "https://localhost:8080/",
          "height": 795,
          "referenced_widgets": [
            "663f81bed94d4f638c121cb22a69f4c1",
            "cc44266a49064dd8a9e5cf0d55c6b34e",
            "fc1a935b0d52474a9017d4b310a59e2c",
            "4a29f087c3b44e13a39e7a2dba266aa4",
            "c37d4728948d4daaace9c90d37e507df",
            "65a13a392f8d4ad8bdfb18f4899af87d",
            "3185fb61c79b45bba7c234453ca7c7ee",
            "6b641976c4504d8cbc3ebb257acb674a",
            "f79e724514cc442389937a6bccefe881",
            "66fad755d93445798a6b143024bb9a79",
            "db8fb5b1a21f448b8249969952c53ab8"
          ]
        },
        "id": "XKVeMd78Zk8r",
        "outputId": "0c8fc563-0b89-4875-e025-1fd405e147b5"
      },
      "outputs": [
        {
          "output_type": "stream",
          "name": "stdout",
          "text": [
            "my train\n"
          ]
        },
        {
          "output_type": "display_data",
          "data": {
            "text/plain": [
              "  0%|          | 0/500 [00:00<?, ?it/s]"
            ],
            "application/vnd.jupyter.widget-view+json": {
              "version_major": 2,
              "version_minor": 0,
              "model_id": "663f81bed94d4f638c121cb22a69f4c1"
            }
          },
          "metadata": {}
        },
        {
          "output_type": "stream",
          "name": "stdout",
          "text": [
            "Validation loss decreased (inf --> 0.676668).  Saving model ...\n",
            "Epoch 001: | Train Loss: 0.662 | Val Loss: 0.6767 | Train Acc: 59.5915| Val Acc: 57.0000\n",
            "Validation loss decreased (0.676668 --> 0.673476).  Saving model ...\n",
            "Epoch 002: | Train Loss: 0.658 | Val Loss: 0.6735 | Train Acc: 60.2715| Val Acc: 57.0000\n",
            "EarlyStopping counter: 1 out of 5\n",
            "Epoch 003: | Train Loss: 0.656 | Val Loss: 0.6745 | Train Acc: 60.3785| Val Acc: 57.0000\n",
            "Validation loss decreased (0.673476 --> 0.672923).  Saving model ...\n",
            "Epoch 004: | Train Loss: 0.656 | Val Loss: 0.6729 | Train Acc: 60.4247| Val Acc: 58.0000\n",
            "Validation loss decreased (0.672923 --> 0.668883).  Saving model ...\n",
            "Epoch 005: | Train Loss: 0.655 | Val Loss: 0.6689 | Train Acc: 60.4293| Val Acc: 59.0000\n",
            "Validation loss decreased (0.668883 --> 0.668426).  Saving model ...\n",
            "Epoch 006: | Train Loss: 0.654 | Val Loss: 0.6684 | Train Acc: 60.5123| Val Acc: 59.0000\n",
            "EarlyStopping counter: 1 out of 5\n",
            "Epoch 007: | Train Loss: 0.653 | Val Loss: 0.6690 | Train Acc: 60.5781| Val Acc: 59.0000\n",
            "Validation loss decreased (0.668426 --> 0.667488).  Saving model ...\n",
            "Epoch 008: | Train Loss: 0.653 | Val Loss: 0.6675 | Train Acc: 60.6207| Val Acc: 60.0000\n",
            "Validation loss decreased (0.667488 --> 0.666330).  Saving model ...\n",
            "Epoch 009: | Train Loss: 0.652 | Val Loss: 0.6663 | Train Acc: 60.7061| Val Acc: 60.0000\n",
            "Validation loss decreased (0.666330 --> 0.661759).  Saving model ...\n",
            "Epoch 010: | Train Loss: 0.652 | Val Loss: 0.6618 | Train Acc: 60.6983| Val Acc: 60.0000\n",
            "Validation loss decreased (0.661759 --> 0.660202).  Saving model ...\n",
            "Epoch 011: | Train Loss: 0.652 | Val Loss: 0.6602 | Train Acc: 60.7546| Val Acc: 61.0000\n",
            "Validation loss decreased (0.660202 --> 0.659182).  Saving model ...\n",
            "Epoch 012: | Train Loss: 0.652 | Val Loss: 0.6592 | Train Acc: 60.8002| Val Acc: 61.0000\n",
            "Validation loss decreased (0.659182 --> 0.659027).  Saving model ...\n",
            "Epoch 013: | Train Loss: 0.652 | Val Loss: 0.6590 | Train Acc: 60.7964| Val Acc: 61.0000\n",
            "Validation loss decreased (0.659027 --> 0.658293).  Saving model ...\n",
            "Epoch 014: | Train Loss: 0.652 | Val Loss: 0.6583 | Train Acc: 60.8038| Val Acc: 61.0000\n",
            "EarlyStopping counter: 1 out of 5\n",
            "Epoch 015: | Train Loss: 0.651 | Val Loss: 0.6594 | Train Acc: 60.8166| Val Acc: 61.0000\n",
            "Validation loss decreased (0.658293 --> 0.655543).  Saving model ...\n",
            "Epoch 016: | Train Loss: 0.651 | Val Loss: 0.6555 | Train Acc: 60.8566| Val Acc: 61.0000\n",
            "EarlyStopping counter: 1 out of 5\n",
            "Epoch 017: | Train Loss: 0.651 | Val Loss: 0.6582 | Train Acc: 60.8804| Val Acc: 61.0000\n",
            "EarlyStopping counter: 2 out of 5\n",
            "Epoch 018: | Train Loss: 0.651 | Val Loss: 0.6578 | Train Acc: 60.8794| Val Acc: 61.0000\n",
            "EarlyStopping counter: 3 out of 5\n",
            "Epoch 019: | Train Loss: 0.651 | Val Loss: 0.6571 | Train Acc: 60.8950| Val Acc: 61.0000\n",
            "EarlyStopping counter: 4 out of 5\n",
            "Epoch 020: | Train Loss: 0.651 | Val Loss: 0.6564 | Train Acc: 60.9000| Val Acc: 61.0000\n",
            "EarlyStopping counter: 5 out of 5\n",
            "Early stopping\n"
          ]
        }
      ],
      "source": [
        "history, y_hat = train(model, train_loader, val_dataset, epochs=500, lr=lr, device=device, binary=True)"
      ]
    },
    {
      "cell_type": "code",
      "source": [
        "plots(history)   #Treino Azul #validacao vermelho"
      ],
      "metadata": {
        "colab": {
          "base_uri": "https://localhost:8080/",
          "height": 487
        },
        "id": "JZ2CDpzOKdbG",
        "outputId": "1af1f518-829c-4bac-cde4-e9590dc2f777"
      },
      "execution_count": 28,
      "outputs": [
        {
          "output_type": "display_data",
          "data": {
            "text/plain": [
              "<Figure size 640x480 with 2 Axes>"
            ],
            "image/png": "[encoded data removed]"
          },
          "metadata": {}
        }
      ]
    },
    {
      "cell_type": "code",
      "execution_count": 29,
      "metadata": {
        "colab": {
          "base_uri": "https://localhost:8080/",
          "height": 75
        },
        "id": "JIx3MZth168z",
        "outputId": "fe319b45-580e-4971-bee6-c17f6a41f159"
      },
      "outputs": [
        {
          "output_type": "execute_result",
          "data": {
            "text/plain": [
              "SVC()"
            ],
            "text/html": [
              "<style>#sk-container-id-1 {color: black;background-color: white;}#sk-container-id-1 pre{padding: 0;}#sk-container-id-1 div.sk-toggleable {background-color: white;}#sk-container-id-1 label.sk-toggleable__label {cursor: pointer;display: block;width: 100%;margin-bottom: 0;padding: 0.3em;box-sizing: border-box;text-align: center;}#sk-container-id-1 label.sk-toggleable__label-arrow:before {content: \"▸\";float: left;margin-right: 0.25em;color: #696969;}#sk-container-id-1 label.sk-toggleable__label-arrow:hover:before {color: black;}#sk-container-id-1 div.sk-estimator:hover label.sk-toggleable__label-arrow:before {color: black;}#sk-container-id-1 div.sk-toggleable__content {max-height: 0;max-width: 0;overflow: hidden;text-align: left;background-color: #f0f8ff;}#sk-container-id-1 div.sk-toggleable__content pre {margin: 0.2em;color: black;border-radius: 0.25em;background-color: #f0f8ff;}#sk-container-id-1 input.sk-toggleable__control:checked~div.sk-toggleable__content {max-height: 200px;max-width: 100%;overflow: auto;}#sk-container-id-1 input.sk-toggleable__control:checked~label.sk-toggleable__label-arrow:before {content: \"▾\";}#sk-container-id-1 div.sk-estimator input.sk-toggleable__control:checked~label.sk-toggleable__label {background-color: #d4ebff;}#sk-container-id-1 div.sk-label input.sk-toggleable__control:checked~label.sk-toggleable__label {background-color: #d4ebff;}#sk-container-id-1 input.sk-hidden--visually {border: 0;clip: rect(1px 1px 1px 1px);clip: rect(1px, 1px, 1px, 1px);height: 1px;margin: -1px;overflow: hidden;padding: 0;position: absolute;width: 1px;}#sk-container-id-1 div.sk-estimator {font-family: monospace;background-color: #f0f8ff;border: 1px dotted black;border-radius: 0.25em;box-sizing: border-box;margin-bottom: 0.5em;}#sk-container-id-1 div.sk-estimator:hover {background-color: #d4ebff;}#sk-container-id-1 div.sk-parallel-item::after {content: \"\";width: 100%;border-bottom: 1px solid gray;flex-grow: 1;}#sk-container-id-1 div.sk-label:hover label.sk-toggleable__label {background-color: #d4ebff;}#sk-container-id-1 div.sk-serial::before {content: \"\";position: absolute;border-left: 1px solid gray;box-sizing: border-box;top: 0;bottom: 0;left: 50%;z-index: 0;}#sk-container-id-1 div.sk-serial {display: flex;flex-direction: column;align-items: center;background-color: white;padding-right: 0.2em;padding-left: 0.2em;position: relative;}#sk-container-id-1 div.sk-item {position: relative;z-index: 1;}#sk-container-id-1 div.sk-parallel {display: flex;align-items: stretch;justify-content: center;background-color: white;position: relative;}#sk-container-id-1 div.sk-item::before, #sk-container-id-1 div.sk-parallel-item::before {content: \"\";position: absolute;border-left: 1px solid gray;box-sizing: border-box;top: 0;bottom: 0;left: 50%;z-index: -1;}#sk-container-id-1 div.sk-parallel-item {display: flex;flex-direction: column;z-index: 1;position: relative;background-color: white;}#sk-container-id-1 div.sk-parallel-item:first-child::after {align-self: flex-end;width: 50%;}#sk-container-id-1 div.sk-parallel-item:last-child::after {align-self: flex-start;width: 50%;}#sk-container-id-1 div.sk-parallel-item:only-child::after {width: 0;}#sk-container-id-1 div.sk-dashed-wrapped {border: 1px dashed gray;margin: 0 0.4em 0.5em 0.4em;box-sizing: border-box;padding-bottom: 0.4em;background-color: white;}#sk-container-id-1 div.sk-label label {font-family: monospace;font-weight: bold;display: inline-block;line-height: 1.2em;}#sk-container-id-1 div.sk-label-container {text-align: center;}#sk-container-id-1 div.sk-container {/* jupyter's `normalize.less` sets `[hidden] { display: none; }` but bootstrap.min.css set `[hidden] { display: none !important; }` so we also need the `!important` here to be able to override the default hidden behavior on the sphinx rendered scikit-learn.org. See: https://github.com/scikit-learn/scikit-learn/issues/21755 */display: inline-block !important;position: relative;}#sk-container-id-1 div.sk-text-repr-fallback {display: none;}</style><div id=\"sk-container-id-1\" class=\"sk-top-container\"><div class=\"sk-text-repr-fallback\"><pre>SVC()</pre><b>In a Jupyter environment, please rerun this cell to show the HTML representation or trust the notebook. <br />On GitHub, the HTML representation is unable to render, please try loading this page with nbviewer.org.</b></div><div class=\"sk-container\" hidden><div class=\"sk-item\"><div class=\"sk-estimator sk-toggleable\"><input class=\"sk-toggleable__control sk-hidden--visually\" id=\"sk-estimator-id-1\" type=\"checkbox\" checked><label for=\"sk-estimator-id-1\" class=\"sk-toggleable__label sk-toggleable__label-arrow\">SVC</label><div class=\"sk-toggleable__content\"><pre>SVC()</pre></div></div></div></div></div>"
            ]
          },
          "metadata": {},
          "execution_count": 29
        }
      ],
      "source": [
        "from sklearn import svm\n",
        "#SVM Classificador\n",
        "clf = svm.SVC()\n",
        "clf.fit(X_train, y_train)"
      ]
    },
    {
      "cell_type": "code",
      "execution_count": null,
      "metadata": {
        "colab": {
          "base_uri": "https://localhost:8080/"
        },
        "id": "0oVEcArX48UB",
        "outputId": "556c58c8-8ee2-4210-cd1f-3c06c228d179"
      },
      "outputs": [
        {
          "data": {
            "text/plain": [
              "160001"
            ]
          },
          "execution_count": 118,
          "metadata": {},
          "output_type": "execute_result"
        }
      ],
      "source": [
        "len(y_hat)"
      ]
    },
    {
      "cell_type": "code",
      "execution_count": null,
      "metadata": {
        "id": "4ObO1EaP1359"
      },
      "outputs": [],
      "source": [
        "# Importa os pacotes\n",
        "from sklearn.model_selection import StratifiedKFold\n",
        "from sklearn.metrics import accuracy_score\n",
        "from sklearn.metrics import precision_score\n",
        "from sklearn.metrics import f1_score\n",
        "from sklearn.metrics import recall_score\n",
        "\n",
        "accuracy =accuracy_score(y_test, y_hat)\n",
        "precision = precision_score(y_test, y_hat,average='weighted')\n",
        "f1score = f1_score(y_test, y_hat,average='weighted')\n",
        "recall = recall_score(y_test, y_hat,average='weighted')\n",
        "\n",
        "print(accuracy)\n",
        "print(precision)\n",
        "print(f1score)\n",
        "print(recall)"
      ]
    },
    {
      "cell_type": "code",
      "execution_count": null,
      "metadata": {
        "id": "_Dcq9Yxt1_zs"
      },
      "outputs": [],
      "source": [
        "cm = confusion_matrix(y_test, y_hat)"
      ]
    },
    {
      "cell_type": "code",
      "execution_count": null,
      "metadata": {
        "id": "AG95FqIh3BrL"
      },
      "outputs": [],
      "source": [
        "plots(history)"
      ]
    },
    {
      "cell_type": "code",
      "execution_count": null,
      "metadata": {
        "id": "7zHSBhch3Bnv"
      },
      "outputs": [],
      "source": []
    },
    {
      "cell_type": "code",
      "execution_count": null,
      "metadata": {
        "colab": {
          "base_uri": "https://localhost:8080/",
          "height": 75
        },
        "id": "Sp9CkFPX5Vk9",
        "outputId": "1a2da9f5-7651-4005-9f76-ed1ec87d6522"
      },
      "outputs": [
        {
          "data": {
            "text/html": [
              "<style>#sk-container-id-1 {color: black;background-color: white;}#sk-container-id-1 pre{padding: 0;}#sk-container-id-1 div.sk-toggleable {background-color: white;}#sk-container-id-1 label.sk-toggleable__label {cursor: pointer;display: block;width: 100%;margin-bottom: 0;padding: 0.3em;box-sizing: border-box;text-align: center;}#sk-container-id-1 label.sk-toggleable__label-arrow:before {content: \"▸\";float: left;margin-right: 0.25em;color: #696969;}#sk-container-id-1 label.sk-toggleable__label-arrow:hover:before {color: black;}#sk-container-id-1 div.sk-estimator:hover label.sk-toggleable__label-arrow:before {color: black;}#sk-container-id-1 div.sk-toggleable__content {max-height: 0;max-width: 0;overflow: hidden;text-align: left;background-color: #f0f8ff;}#sk-container-id-1 div.sk-toggleable__content pre {margin: 0.2em;color: black;border-radius: 0.25em;background-color: #f0f8ff;}#sk-container-id-1 input.sk-toggleable__control:checked~div.sk-toggleable__content {max-height: 200px;max-width: 100%;overflow: auto;}#sk-container-id-1 input.sk-toggleable__control:checked~label.sk-toggleable__label-arrow:before {content: \"▾\";}#sk-container-id-1 div.sk-estimator input.sk-toggleable__control:checked~label.sk-toggleable__label {background-color: #d4ebff;}#sk-container-id-1 div.sk-label input.sk-toggleable__control:checked~label.sk-toggleable__label {background-color: #d4ebff;}#sk-container-id-1 input.sk-hidden--visually {border: 0;clip: rect(1px 1px 1px 1px);clip: rect(1px, 1px, 1px, 1px);height: 1px;margin: -1px;overflow: hidden;padding: 0;position: absolute;width: 1px;}#sk-container-id-1 div.sk-estimator {font-family: monospace;background-color: #f0f8ff;border: 1px dotted black;border-radius: 0.25em;box-sizing: border-box;margin-bottom: 0.5em;}#sk-container-id-1 div.sk-estimator:hover {background-color: #d4ebff;}#sk-container-id-1 div.sk-parallel-item::after {content: \"\";width: 100%;border-bottom: 1px solid gray;flex-grow: 1;}#sk-container-id-1 div.sk-label:hover label.sk-toggleable__label {background-color: #d4ebff;}#sk-container-id-1 div.sk-serial::before {content: \"\";position: absolute;border-left: 1px solid gray;box-sizing: border-box;top: 0;bottom: 0;left: 50%;z-index: 0;}#sk-container-id-1 div.sk-serial {display: flex;flex-direction: column;align-items: center;background-color: white;padding-right: 0.2em;padding-left: 0.2em;position: relative;}#sk-container-id-1 div.sk-item {position: relative;z-index: 1;}#sk-container-id-1 div.sk-parallel {display: flex;align-items: stretch;justify-content: center;background-color: white;position: relative;}#sk-container-id-1 div.sk-item::before, #sk-container-id-1 div.sk-parallel-item::before {content: \"\";position: absolute;border-left: 1px solid gray;box-sizing: border-box;top: 0;bottom: 0;left: 50%;z-index: -1;}#sk-container-id-1 div.sk-parallel-item {display: flex;flex-direction: column;z-index: 1;position: relative;background-color: white;}#sk-container-id-1 div.sk-parallel-item:first-child::after {align-self: flex-end;width: 50%;}#sk-container-id-1 div.sk-parallel-item:last-child::after {align-self: flex-start;width: 50%;}#sk-container-id-1 div.sk-parallel-item:only-child::after {width: 0;}#sk-container-id-1 div.sk-dashed-wrapped {border: 1px dashed gray;margin: 0 0.4em 0.5em 0.4em;box-sizing: border-box;padding-bottom: 0.4em;background-color: white;}#sk-container-id-1 div.sk-label label {font-family: monospace;font-weight: bold;display: inline-block;line-height: 1.2em;}#sk-container-id-1 div.sk-label-container {text-align: center;}#sk-container-id-1 div.sk-container {/* jupyter's `normalize.less` sets `[hidden] { display: none; }` but bootstrap.min.css set `[hidden] { display: none !important; }` so we also need the `!important` here to be able to override the default hidden behavior on the sphinx rendered scikit-learn.org. See: https://github.com/scikit-learn/scikit-learn/issues/21755 */display: inline-block !important;position: relative;}#sk-container-id-1 div.sk-text-repr-fallback {display: none;}</style><div id=\"sk-container-id-1\" class=\"sk-top-container\"><div class=\"sk-text-repr-fallback\"><pre>RandomForestClassifier()</pre><b>In a Jupyter environment, please rerun this cell to show the HTML representation or trust the notebook. <br />On GitHub, the HTML representation is unable to render, please try loading this page with nbviewer.org.</b></div><div class=\"sk-container\" hidden><div class=\"sk-item\"><div class=\"sk-estimator sk-toggleable\"><input class=\"sk-toggleable__control sk-hidden--visually\" id=\"sk-estimator-id-1\" type=\"checkbox\" checked><label for=\"sk-estimator-id-1\" class=\"sk-toggleable__label sk-toggleable__label-arrow\">RandomForestClassifier</label><div class=\"sk-toggleable__content\"><pre>RandomForestClassifier()</pre></div></div></div></div></div>"
            ],
            "text/plain": [
              "RandomForestClassifier()"
            ]
          },
          "execution_count": 136,
          "metadata": {},
          "output_type": "execute_result"
        }
      ],
      "source": [
        "# Randon Forest\n",
        "import pandas as pd\n",
        "import numpy as np\n",
        "\n",
        "# Modelling\n",
        "from sklearn.ensemble import RandomForestClassifier\n",
        "from sklearn.metrics import accuracy_score, confusion_matrix, precision_score, recall_score, ConfusionMatrixDisplay\n",
        "from sklearn.model_selection import RandomizedSearchCV, train_test_split\n",
        "from scipy.stats import randint\n",
        "\n",
        "# Tree Visualisation\n",
        "from sklearn.tree import export_graphviz\n",
        "from IPython.display import Image\n",
        "import graphviz\n",
        "\n",
        "rf = RandomForestClassifier()\n",
        "rf.fit(X_train, y_train)\n",
        "\n"
      ]
    },
    {
      "cell_type": "code",
      "execution_count": null,
      "metadata": {
        "colab": {
          "base_uri": "https://localhost:8080/"
        },
        "id": "FRbN0jmM_Xrj",
        "outputId": "f814a6b4-2839-4c74-eedb-9aed65dae3ec"
      },
      "outputs": [
        {
          "name": "stdout",
          "output_type": "stream",
          "text": [
            "Accuracy: 0.5802854928626784\n"
          ]
        }
      ],
      "source": [
        "y_pred = rf.predict(X_val)\n",
        "accuracy = accuracy_score(y_val, y_pred)\n",
        "print(\"Accuracy:\", accuracy)"
      ]
    },
    {
      "cell_type": "code",
      "execution_count": null,
      "metadata": {
        "id": "Z5jfxPd-_a3F"
      },
      "outputs": [],
      "source": []
    },
    {
      "cell_type": "code",
      "execution_count": null,
      "metadata": {
        "id": "ALgzzHO8RSW6"
      },
      "outputs": [],
      "source": [
        "#########################################################"
      ]
    },
    {
      "cell_type": "code",
      "execution_count": null,
      "metadata": {
        "id": "44mMHkSE8BDv"
      },
      "outputs": [],
      "source": [
        "#SVN\n",
        "\n",
        "from sklearn import svm\n",
        "from sklearn.metrics import roc_auc_score,accuracy_score\n",
        "#SVM Classificador\n",
        "modelSVC = svm.SVC(random_state=50,gamma=1)\n",
        "modelSVC.fit(X_train, y_train)\n",
        "pred = modelSVC.predict(X_val)\n",
        "accuracy = accuracy_score(y_val, pred)\n",
        "print(\"Accuracy:\", accuracy)\n"
      ]
    },
    {
      "cell_type": "code",
      "execution_count": null,
      "metadata": {
        "id": "hLlxADUE8A4N"
      },
      "outputs": [],
      "source": [
        "\n"
      ]
    },
    {
      "cell_type": "code",
      "source": [],
      "metadata": {
        "id": "8Y1jd-6hHFNB"
      },
      "execution_count": null,
      "outputs": []
    },
    {
      "cell_type": "code",
      "source": [],
      "metadata": {
        "id": "n8bHKmJYHFCQ"
      },
      "execution_count": null,
      "outputs": []
    }
  ],
  "metadata": {
    "colab": {
      "provenance": [],
      "include_colab_link": true
    },
    "kernelspec": {
      "display_name": "Python 3",
      "name": "python3"
    },
    "language_info": {
      "name": "python"
    },
    "widgets": {
      "application/vnd.jupyter.widget-state+json": {
        "663f81bed94d4f638c121cb22a69f4c1": {
          "model_module": "@jupyter-widgets/controls",
          "model_name": "HBoxModel",
          "model_module_version": "1.5.0",
          "state": {
            "_dom_classes": [],
            "_model_module": "@jupyter-widgets/controls",
            "_model_module_version": "1.5.0",
            "_model_name": "HBoxModel",
            "_view_count": null,
            "_view_module": "@jupyter-widgets/controls",
            "_view_module_version": "1.5.0",
            "_view_name": "HBoxView",
            "box_style": "",
            "children": [
              "IPY_MODEL_cc44266a49064dd8a9e5cf0d55c6b34e",
              "IPY_MODEL_fc1a935b0d52474a9017d4b310a59e2c",
              "IPY_MODEL_4a29f087c3b44e13a39e7a2dba266aa4"
            ],
            "layout": "IPY_MODEL_c37d4728948d4daaace9c90d37e507df"
          }
        },
        "cc44266a49064dd8a9e5cf0d55c6b34e": {
          "model_module": "@jupyter-widgets/controls",
          "model_name": "HTMLModel",
          "model_module_version": "1.5.0",
          "state": {
            "_dom_classes": [],
            "_model_module": "@jupyter-widgets/controls",
            "_model_module_version": "1.5.0",
            "_model_name": "HTMLModel",
            "_view_count": null,
            "_view_module": "@jupyter-widgets/controls",
            "_view_module_version": "1.5.0",
            "_view_name": "HTMLView",
            "description": "",
            "description_tooltip": null,
            "layout": "IPY_MODEL_65a13a392f8d4ad8bdfb18f4899af87d",
            "placeholder": "​",
            "style": "IPY_MODEL_3185fb61c79b45bba7c234453ca7c7ee",
            "value": "  4%"
          }
        },
        "fc1a935b0d52474a9017d4b310a59e2c": {
          "model_module": "@jupyter-widgets/controls",
          "model_name": "FloatProgressModel",
          "model_module_version": "1.5.0",
          "state": {
            "_dom_classes": [],
            "_model_module": "@jupyter-widgets/controls",
            "_model_module_version": "1.5.0",
            "_model_name": "FloatProgressModel",
            "_view_count": null,
            "_view_module": "@jupyter-widgets/controls",
            "_view_module_version": "1.5.0",
            "_view_name": "ProgressView",
            "bar_style": "danger",
            "description": "",
            "description_tooltip": null,
            "layout": "IPY_MODEL_6b641976c4504d8cbc3ebb257acb674a",
            "max": 500,
            "min": 0,
            "orientation": "horizontal",
            "style": "IPY_MODEL_f79e724514cc442389937a6bccefe881",
            "value": 20
          }
        },
        "4a29f087c3b44e13a39e7a2dba266aa4": {
          "model_module": "@jupyter-widgets/controls",
          "model_name": "HTMLModel",
          "model_module_version": "1.5.0",
          "state": {
            "_dom_classes": [],
            "_model_module": "@jupyter-widgets/controls",
            "_model_module_version": "1.5.0",
            "_model_name": "HTMLModel",
            "_view_count": null,
            "_view_module": "@jupyter-widgets/controls",
            "_view_module_version": "1.5.0",
            "_view_name": "HTMLView",
            "description": "",
            "description_tooltip": null,
            "layout": "IPY_MODEL_66fad755d93445798a6b143024bb9a79",
            "placeholder": "​",
            "style": "IPY_MODEL_db8fb5b1a21f448b8249969952c53ab8",
            "value": " 20/500 [02:13&lt;52:15,  6.53s/it]"
          }
        },
        "c37d4728948d4daaace9c90d37e507df": {
          "model_module": "@jupyter-widgets/base",
          "model_name": "LayoutModel",
          "model_module_version": "1.2.0",
          "state": {
            "_model_module": "@jupyter-widgets/base",
            "_model_module_version": "1.2.0",
            "_model_name": "LayoutModel",
            "_view_count": null,
            "_view_module": "@jupyter-widgets/base",
            "_view_module_version": "1.2.0",
            "_view_name": "LayoutView",
            "align_content": null,
            "align_items": null,
            "align_self": null,
            "border": null,
            "bottom": null,
            "display": null,
            "flex": null,
            "flex_flow": null,
            "grid_area": null,
            "grid_auto_columns": null,
            "grid_auto_flow": null,
            "grid_auto_rows": null,
            "grid_column": null,
            "grid_gap": null,
            "grid_row": null,
            "grid_template_areas": null,
            "grid_template_columns": null,
            "grid_template_rows": null,
            "height": null,
            "justify_content": null,
            "justify_items": null,
            "left": null,
            "margin": null,
            "max_height": null,
            "max_width": null,
            "min_height": null,
            "min_width": null,
            "object_fit": null,
            "object_position": null,
            "order": null,
            "overflow": null,
            "overflow_x": null,
            "overflow_y": null,
            "padding": null,
            "right": null,
            "top": null,
            "visibility": null,
            "width": null
          }
        },
        "65a13a392f8d4ad8bdfb18f4899af87d": {
          "model_module": "@jupyter-widgets/base",
          "model_name": "LayoutModel",
          "model_module_version": "1.2.0",
          "state": {
            "_model_module": "@jupyter-widgets/base",
            "_model_module_version": "1.2.0",
            "_model_name": "LayoutModel",
            "_view_count": null,
            "_view_module": "@jupyter-widgets/base",
            "_view_module_version": "1.2.0",
            "_view_name": "LayoutView",
            "align_content": null,
            "align_items": null,
            "align_self": null,
            "border": null,
            "bottom": null,
            "display": null,
            "flex": null,
            "flex_flow": null,
            "grid_area": null,
            "grid_auto_columns": null,
            "grid_auto_flow": null,
            "grid_auto_rows": null,
            "grid_column": null,
            "grid_gap": null,
            "grid_row": null,
            "grid_template_areas": null,
            "grid_template_columns": null,
            "grid_template_rows": null,
            "height": null,
            "justify_content": null,
            "justify_items": null,
            "left": null,
            "margin": null,
            "max_height": null,
            "max_width": null,
            "min_height": null,
            "min_width": null,
            "object_fit": null,
            "object_position": null,
            "order": null,
            "overflow": null,
            "overflow_x": null,
            "overflow_y": null,
            "padding": null,
            "right": null,
            "top": null,
            "visibility": null,
            "width": null
          }
        },
        "3185fb61c79b45bba7c234453ca7c7ee": {
          "model_module": "@jupyter-widgets/controls",
          "model_name": "DescriptionStyleModel",
          "model_module_version": "1.5.0",
          "state": {
            "_model_module": "@jupyter-widgets/controls",
            "_model_module_version": "1.5.0",
            "_model_name": "DescriptionStyleModel",
            "_view_count": null,
            "_view_module": "@jupyter-widgets/base",
            "_view_module_version": "1.2.0",
            "_view_name": "StyleView",
            "description_width": ""
          }
        },
        "6b641976c4504d8cbc3ebb257acb674a": {
          "model_module": "@jupyter-widgets/base",
          "model_name": "LayoutModel",
          "model_module_version": "1.2.0",
          "state": {
            "_model_module": "@jupyter-widgets/base",
            "_model_module_version": "1.2.0",
            "_model_name": "LayoutModel",
            "_view_count": null,
            "_view_module": "@jupyter-widgets/base",
            "_view_module_version": "1.2.0",
            "_view_name": "LayoutView",
            "align_content": null,
            "align_items": null,
            "align_self": null,
            "border": null,
            "bottom": null,
            "display": null,
            "flex": null,
            "flex_flow": null,
            "grid_area": null,
            "grid_auto_columns": null,
            "grid_auto_flow": null,
            "grid_auto_rows": null,
            "grid_column": null,
            "grid_gap": null,
            "grid_row": null,
            "grid_template_areas": null,
            "grid_template_columns": null,
            "grid_template_rows": null,
            "height": null,
            "justify_content": null,
            "justify_items": null,
            "left": null,
            "margin": null,
            "max_height": null,
            "max_width": null,
            "min_height": null,
            "min_width": null,
            "object_fit": null,
            "object_position": null,
            "order": null,
            "overflow": null,
            "overflow_x": null,
            "overflow_y": null,
            "padding": null,
            "right": null,
            "top": null,
            "visibility": null,
            "width": null
          }
        },
        "f79e724514cc442389937a6bccefe881": {
          "model_module": "@jupyter-widgets/controls",
          "model_name": "ProgressStyleModel",
          "model_module_version": "1.5.0",
          "state": {
            "_model_module": "@jupyter-widgets/controls",
            "_model_module_version": "1.5.0",
            "_model_name": "ProgressStyleModel",
            "_view_count": null,
            "_view_module": "@jupyter-widgets/base",
            "_view_module_version": "1.2.0",
            "_view_name": "StyleView",
            "bar_color": null,
            "description_width": ""
          }
        },
        "66fad755d93445798a6b143024bb9a79": {
          "model_module": "@jupyter-widgets/base",
          "model_name": "LayoutModel",
          "model_module_version": "1.2.0",
          "state": {
            "_model_module": "@jupyter-widgets/base",
            "_model_module_version": "1.2.0",
            "_model_name": "LayoutModel",
            "_view_count": null,
            "_view_module": "@jupyter-widgets/base",
            "_view_module_version": "1.2.0",
            "_view_name": "LayoutView",
            "align_content": null,
            "align_items": null,
            "align_self": null,
            "border": null,
            "bottom": null,
            "display": null,
            "flex": null,
            "flex_flow": null,
            "grid_area": null,
            "grid_auto_columns": null,
            "grid_auto_flow": null,
            "grid_auto_rows": null,
            "grid_column": null,
            "grid_gap": null,
            "grid_row": null,
            "grid_template_areas": null,
            "grid_template_columns": null,
            "grid_template_rows": null,
            "height": null,
            "justify_content": null,
            "justify_items": null,
            "left": null,
            "margin": null,
            "max_height": null,
            "max_width": null,
            "min_height": null,
            "min_width": null,
            "object_fit": null,
            "object_position": null,
            "order": null,
            "overflow": null,
            "overflow_x": null,
            "overflow_y": null,
            "padding": null,
            "right": null,
            "top": null,
            "visibility": null,
            "width": null
          }
        },
        "db8fb5b1a21f448b8249969952c53ab8": {
          "model_module": "@jupyter-widgets/controls",
          "model_name": "DescriptionStyleModel",
          "model_module_version": "1.5.0",
          "state": {
            "_model_module": "@jupyter-widgets/controls",
            "_model_module_version": "1.5.0",
            "_model_name": "DescriptionStyleModel",
            "_view_count": null,
            "_view_module": "@jupyter-widgets/base",
            "_view_module_version": "1.2.0",
            "_view_name": "StyleView",
            "description_width": ""
          }
        }
      }
    }
  },
  "nbformat": 4,
  "nbformat_minor": 0
}